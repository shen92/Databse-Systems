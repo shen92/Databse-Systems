{
  "nbformat": 4,
  "nbformat_minor": 0,
  "metadata": {
    "colab": {
      "name": "q4.ipynb",
      "provenance": [],
      "collapsed_sections": []
    },
    "kernelspec": {
      "name": "python3",
      "display_name": "Python 3"
    }
  },
  "cells": [
    {
      "cell_type": "code",
      "metadata": {
        "colab": {
          "base_uri": "https://localhost:8080/"
        },
        "id": "rsLoW0Q-I5fV",
        "outputId": "a173e35e-f8ce-4a7f-a12b-250bf622886c"
      },
      "source": [
        "import numpy as np\n",
        "\n",
        "def sigmoid(x):\n",
        "    return 1.0/(1+ np.exp(-x))\n",
        "\n",
        "def sigmoid_derivative(x):\n",
        "    return x * (1.0 - x)\n",
        "\n",
        "class NeuralNetwork:\n",
        "    def __init__(self, x, y):\n",
        "        self.input      = x\n",
        "        self.weights1   = np.random.rand(self.input.shape[1],4) \n",
        "        self.weights2   = np.random.rand(4,1)                 \n",
        "        self.y          = y\n",
        "        self.output     = np.zeros(self.y.shape)\n",
        "\n",
        "    def feedforward(self):\n",
        "        self.layer1 = sigmoid(np.dot(self.input, self.weights1))\n",
        "        self.output = sigmoid(np.dot(self.layer1, self.weights2))\n",
        "\n",
        "    def backprop(self):\n",
        "        # application of the chain rule to find derivative of the loss function with respect to weights2 and weights1\n",
        "        d_weights2 = np.dot(self.layer1.T, (2*(self.y - self.output) * sigmoid_derivative(self.output)))\n",
        "        d_weights1 = np.dot(self.input.T,  (np.dot(2*(self.y - self.output) * sigmoid_derivative(self.output), self.weights2.T) * \n",
        "                                            sigmoid_derivative(self.layer1)))\n",
        "\n",
        "        # update the weights with the derivative (slope) of the loss function\n",
        "        self.weights1 += d_weights1\n",
        "        self.weights2 += d_weights2\n",
        "\n",
        "\n",
        "if __name__ == \"__main__\":\n",
        "    X = np.array([[0,0,1],\n",
        "                  [0,1,1],\n",
        "                  [1,0,1],\n",
        "                  [1,1,1]])\n",
        "    y = np.array([[0],[1],[1],[0]])\n",
        "    nn = NeuralNetwork(X,y)\n",
        "\n",
        "    for i in range(10000):\n",
        "        nn.feedforward()\n",
        "        nn.backprop()\n",
        "\n",
        "\n",
        "    print(nn.weights1) # 'blue' layer  [hidden]\n",
        "    print()\n",
        "    print(nn.weights2) # 'green' layer [output]\n",
        "    print()\n",
        "    nn.feedforward()   # this was missing earlier, thanks to Man Sun for noticing!\n",
        "    print(nn.output)   # predictions"
      ],
      "execution_count": 2,
      "outputs": [
        {
          "output_type": "stream",
          "text": [
            "[[ 4.87187155  4.07210112 -3.08586121  6.3447932 ]\n",
            " [-2.48549953  3.98718328  5.04942446  6.42675095]\n",
            " [ 0.54278484 -6.16626257  1.07630627 -2.20534486]]\n",
            "\n",
            "[[-4.70886981]\n",
            " [-8.29058452]\n",
            " [-4.78846468]\n",
            " [11.33855792]]\n",
            "\n",
            "[[0.00431578]\n",
            " [0.99306052]\n",
            " [0.99329078]\n",
            " [0.00734108]]\n"
          ],
          "name": "stdout"
        }
      ]
    }
  ]
}